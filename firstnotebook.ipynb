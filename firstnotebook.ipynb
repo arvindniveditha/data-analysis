{
 "cells": [
  {
   "cell_type": "code",
   "execution_count": null,
   "metadata": {},
   "outputs": [],
   "source": [
    "\n",
    "\n"
   ]
  },
  {
   "cell_type": "code",
   "execution_count": 1,
   "metadata": {},
   "outputs": [],
   "source": [
    "\n",
    "import os\n",
    "import configparser"
   ]
  },
  {
   "cell_type": "code",
   "execution_count": 2,
   "metadata": {},
   "outputs": [],
   "source": [
    "from pyspark.context import SparkContext\n",
    "from pyspark.sql import SparkSession"
   ]
  },
  {
   "cell_type": "code",
   "execution_count": null,
   "metadata": {},
   "outputs": [],
   "source": []
  },
  {
   "cell_type": "code",
   "execution_count": 3,
   "metadata": {},
   "outputs": [],
   "source": [
    "from pyspark.context import SparkContext\n",
    "from pyspark.sql import SparkSession"
   ]
  },
  {
   "cell_type": "code",
   "execution_count": 4,
   "metadata": {},
   "outputs": [],
   "source": [
    "sc = SparkSession.builder.config('spark.jars.packages',\n",
    "                                        'org.apache.hadoop:hadoop-aws:2.6.4').getOrCreate()\n",
    "sc._jsc.hadoopConfiguration().set(\"fs.s3a.access.key\",\n",
    "                                     os.environ['AWS_ACCESS_KEY_ID'])\n",
    "sc._jsc.hadoopConfiguration().set(\"fs.s3a.secret.key\",\n",
    "                                     os.environ['AWS_SECRET_ACCESS_KEY'])\n",
    "sc._jsc.hadoopConfiguration().set(\"fs.s3a.impl\", \"org.apache.hadoop.fs.s3a.S3AFileSystem\")\n"
   ]
  },
  {
   "cell_type": "code",
   "execution_count": null,
   "metadata": {},
   "outputs": [],
   "source": [
    "\n"
   ]
  },
  {
   "cell_type": "code",
   "execution_count": 7,
   "metadata": {},
   "outputs": [
    {
     "name": "stdout",
     "output_type": "stream",
     "text": [
      "<pyspark.sql.session.SparkSession object at 0x119b42350>\n"
     ]
    }
   ],
   "source": [
    "print(sc)\n"
   ]
  },
  {
   "cell_type": "code",
   "execution_count": 3,
   "metadata": {},
   "outputs": [
    {
     "name": "stdout",
     "output_type": "stream",
     "text": [
      "s3a://world-happiness-dev/datasets_894_813759_2015.csv\n"
     ]
    }
   ],
   "source": [
    "config = configparser.ConfigParser()\n",
    "\n",
    "config.read_file(open('config.cfg'))\n",
    "os.environ['PYSPARK_PYTHON'] = '/usr/bin/python3'\n",
    "os.environ['PYSPARK_DRIVER_PYTHON'] = '/usr/bin/python3'\n",
    "\n",
    "os.environ['AWS_ACCESS_KEY_ID'] = config['AWS']['AWS_ACCESS_KEY_ID']\n",
    "os.environ['AWS_SECRET_ACCESS_KEY'] = config['AWS']['AWS_SECRET_ACCESS_KEY']\n",
    "\n",
    "dataset1_path = config['S3']['dataset1']\n",
    "\n",
    "\n",
    "print(dataset1_path)\n"
   ]
  },
  {
   "cell_type": "code",
   "execution_count": 5,
   "metadata": {},
   "outputs": [
    {
     "data": {
      "text/plain": [
       "[Row(Country='Switzerland', Region='Western Europe', Happiness Rank='1', Happiness Score='7.587', Standard Error='0.03411', Economy (GDP per Capita)='1.39651', Family='1.34951', Health (Life Expectancy)='0.94143', Freedom='0.66557', Trust (Government Corruption)='0.41978', Generosity='0.29678', Dystopia Residual='2.51738'),\n",
       " Row(Country='Iceland', Region='Western Europe', Happiness Rank='2', Happiness Score='7.561', Standard Error='0.04884', Economy (GDP per Capita)='1.30232', Family='1.40223', Health (Life Expectancy)='0.94784', Freedom='0.62877', Trust (Government Corruption)='0.14145', Generosity='0.4363', Dystopia Residual='2.70201'),\n",
       " Row(Country='Denmark', Region='Western Europe', Happiness Rank='3', Happiness Score='7.527', Standard Error='0.03328', Economy (GDP per Capita)='1.32548', Family='1.36058', Health (Life Expectancy)='0.87464', Freedom='0.64938', Trust (Government Corruption)='0.48357', Generosity='0.34139', Dystopia Residual='2.49204'),\n",
       " Row(Country='Norway', Region='Western Europe', Happiness Rank='4', Happiness Score='7.522', Standard Error='0.0388', Economy (GDP per Capita)='1.459', Family='1.33095', Health (Life Expectancy)='0.88521', Freedom='0.66973', Trust (Government Corruption)='0.36503', Generosity='0.34699', Dystopia Residual='2.46531'),\n",
       " Row(Country='Canada', Region='North America', Happiness Rank='5', Happiness Score='7.427', Standard Error='0.03553', Economy (GDP per Capita)='1.32629', Family='1.32261', Health (Life Expectancy)='0.90563', Freedom='0.63297', Trust (Government Corruption)='0.32957', Generosity='0.45811', Dystopia Residual='2.45176')]"
      ]
     },
     "execution_count": 5,
     "metadata": {},
     "output_type": "execute_result"
    }
   ],
   "source": [
    "dataset_1_data = sc.read.csv(dataset1_path, header=True)\n",
    "dataset_1_data.head(5)\n",
    "# DataSet2_data = sc.read.csv(dataset2_path, header=True)\n",
    "# DataSet3_data = sc.read.csv(dataset3_path, header=True)\n",
    "# DataSet4_data = sc.read.csv(dataset4_path, header=True)\n",
    "# DataSet5_data = sc.read.csv(dataset5_path, header=True)\n"
   ]
  },
  {
   "cell_type": "code",
   "execution_count": null,
   "metadata": {},
   "outputs": [],
   "source": []
  }
 ],
 "metadata": {
  "kernelspec": {
   "display_name": "Python 3",
   "language": "python",
   "name": "python3"
  },
  "language_info": {
   "codemirror_mode": {
    "name": "ipython",
    "version": 3
   },
   "file_extension": ".py",
   "mimetype": "text/x-python",
   "name": "python",
   "nbconvert_exporter": "python",
   "pygments_lexer": "ipython3",
   "version": "3.7.6"
  }
 },
 "nbformat": 4,
 "nbformat_minor": 4
}
